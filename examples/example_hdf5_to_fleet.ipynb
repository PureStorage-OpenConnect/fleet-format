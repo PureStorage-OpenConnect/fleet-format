{
 "cells": [
  {
   "cell_type": "markdown",
   "metadata": {},
   "source": [
    "## Sample conversion: HDF5 file to Fleet file\n",
    "\n",
    "This notebook demonstrates a simple example of converting an HDF5 file into a Fleet file. To do so, we read the HDF5 file into a numpy arrays and then write those arrays to a Fleet file. "
   ]
  },
  {
   "cell_type": "code",
   "execution_count": 1,
   "metadata": {},
   "outputs": [],
   "source": [
    "# import packages\n",
    "import h5py\n",
    "from fleetfmt import FileWriter, FileReader\n",
    "import numpy as np\n",
    "from pathlib import Path"
   ]
  },
  {
   "cell_type": "code",
   "execution_count": 2,
   "metadata": {},
   "outputs": [],
   "source": [
    "hdf5file = Path(\"./convert_example.flt\")\n",
    "fleetfile = Path(\"./convert_example.hdf5\")"
   ]
  },
  {
   "cell_type": "markdown",
   "metadata": {},
   "source": [
    "In this example, we create a test dataset that contains records of varied length. "
   ]
  },
  {
   "cell_type": "code",
   "execution_count": 3,
   "metadata": {},
   "outputs": [],
   "source": [
    "# Utility to create a test numpy array\n",
    "def make_dataset():\n",
    "    dataset = []\n",
    "    def _rand_vec(size):\n",
    "        data = np.array(10*np.random.random(size), dtype=np.int)\n",
    "        print(data)\n",
    "        return data\n",
    "\n",
    "    for i in range(0, 2): # 2 loops = 6 records in example file\n",
    "        for _ in range(2):\n",
    "            dataset.append(_rand_vec(2))\n",
    "        for _ in range(1):\n",
    "            dataset.append(_rand_vec(5))\n",
    "    return dataset"
   ]
  },
  {
   "cell_type": "markdown",
   "metadata": {},
   "source": [
    "### Convert HDF5 file into a Fleet file (by way of numpy)"
   ]
  },
  {
   "cell_type": "code",
   "execution_count": 4,
   "metadata": {},
   "outputs": [
    {
     "name": "stdout",
     "output_type": "stream",
     "text": [
      "Creating dataset and saving as HDF5 file.\n",
      "[2 5]\n",
      "[4 2]\n",
      "[9 3 2 0 1]\n",
      "[2 9]\n",
      "[2 2]\n",
      "[8 2 3 1 1]\n"
     ]
    }
   ],
   "source": [
    "print(\"Creating dataset and saving as HDF5 file.\")\n",
    "data = make_dataset()\n",
    "\n",
    "f = h5py.File(hdf5file, 'w')\n",
    "for key,value in enumerate(data):\n",
    "    f.create_dataset(str(key), data=value)\n",
    "f.close()"
   ]
  },
  {
   "cell_type": "code",
   "execution_count": 5,
   "metadata": {},
   "outputs": [
    {
     "name": "stdout",
     "output_type": "stream",
     "text": [
      "Reading HDF5 file into numpy array.\n",
      "HDF5 keys: ['0', '1', '2', '3', '4', '5']\n",
      "HDF5 Values:\n",
      "[2 5]\n",
      "[4 2]\n",
      "[9 3 2 0 1]\n",
      "[2 9]\n",
      "[2 2]\n",
      "[8 2 3 1 1]\n"
     ]
    }
   ],
   "source": [
    "print(\"Reading HDF5 file into numpy array.\")\n",
    "fulldata = []\n",
    "\n",
    "# open HDF5 file\n",
    "h5f2 = h5py.File(hdf5file,'r')\n",
    "\n",
    "# get keys\n",
    "h5keys = list(h5f2.keys())\n",
    "print(\"HDF5 keys:\", h5keys)\n",
    "\n",
    "# get values\n",
    "print(\"HDF5 Values:\")\n",
    "for key in h5keys:\n",
    "    value = np.array(h5f2[(key)])\n",
    "    print(value)\n",
    "    fulldata.append(list(value))\n",
    "\n",
    "h5f2.close()"
   ]
  },
  {
   "cell_type": "code",
   "execution_count": 6,
   "metadata": {},
   "outputs": [
    {
     "name": "stdout",
     "output_type": "stream",
     "text": [
      "Writing numpy content to a new Fleet file.\n",
      "Done.\n"
     ]
    }
   ],
   "source": [
    "print(\"Writing numpy content to a new Fleet file.\")\n",
    "with fleetfile.open('wb') as fhandle, FileWriter(fhandle) as writer:\n",
    "    for key, value in zip(h5keys, fulldata):\n",
    "        writer.append(key, value)\n",
    "print(\"Done.\")"
   ]
  },
  {
   "cell_type": "markdown",
   "metadata": {},
   "source": [
    "### Verify Fleet content compared to original data"
   ]
  },
  {
   "cell_type": "code",
   "execution_count": 7,
   "metadata": {},
   "outputs": [
    {
     "name": "stdout",
     "output_type": "stream",
     "text": [
      "Reading back Fleet data.\n",
      "Fleet keys: ['0', '1', '2', '3', '4', '5']\n",
      "Fleet Values:\n",
      "[2, 5]\n",
      "[4, 2]\n",
      "[9, 3, 2, 0, 1]\n",
      "[2, 9]\n",
      "[2, 2]\n",
      "[8, 2, 3, 1, 1]\n"
     ]
    }
   ],
   "source": [
    "print(\"Reading back Fleet data.\")\n",
    "with fleetfile.open('rb') as fhandle, FileReader(fhandle) as reader:\n",
    "    # get keys\n",
    "    dkeys = list(reader.keys())\n",
    "    print(\"Fleet keys:\", dkeys)\n",
    "    \n",
    "    # get values\n",
    "    print(\"Fleet Values:\")\n",
    "    for key in dkeys:\n",
    "        value = reader.read(key)\n",
    "        print(value)"
   ]
  },
  {
   "cell_type": "code",
   "execution_count": 8,
   "metadata": {},
   "outputs": [
    {
     "name": "stdout",
     "output_type": "stream",
     "text": [
      "Key 0: HDF5 and Fleet match\n",
      "Key 1: HDF5 and Fleet match\n",
      "Key 2: HDF5 and Fleet match\n",
      "Key 3: HDF5 and Fleet match\n",
      "Key 4: HDF5 and Fleet match\n",
      "Key 5: HDF5 and Fleet match\n"
     ]
    }
   ],
   "source": [
    "# compare values across file types to validate integrity\n",
    "\n",
    "# open both files\n",
    "h5f2 = h5py.File(hdf5file,'r')\n",
    "with fleetfile.open('rb') as fhandle, FileReader(fhandle) as reader:\n",
    "    \n",
    "    for key in dkeys:\n",
    "        if np.array(reader.read(key)).all() != np.array(h5f2[(key)]).all():\n",
    "            print(\"Key {}: mismatch between HDF5 and Fleet\".format(key))\n",
    "        else: \n",
    "            print(\"Key {}: HDF5 and Fleet match\".format(key))"
   ]
  },
  {
   "cell_type": "code",
   "execution_count": null,
   "metadata": {},
   "outputs": [],
   "source": []
  },
  {
   "cell_type": "code",
   "execution_count": null,
   "metadata": {},
   "outputs": [],
   "source": []
  }
 ],
 "metadata": {
  "kernelspec": {
   "display_name": "Python 3",
   "language": "python",
   "name": "python3"
  },
  "language_info": {
   "codemirror_mode": {
    "name": "ipython",
    "version": 3
   },
   "file_extension": ".py",
   "mimetype": "text/x-python",
   "name": "python",
   "nbconvert_exporter": "python",
   "pygments_lexer": "ipython3",
   "version": "3.7.4"
  }
 },
 "nbformat": 4,
 "nbformat_minor": 4
}
